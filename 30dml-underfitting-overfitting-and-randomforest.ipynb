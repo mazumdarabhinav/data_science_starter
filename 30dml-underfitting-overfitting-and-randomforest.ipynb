{
 "cells": [
  {
   "cell_type": "code",
   "execution_count": 1,
   "id": "7bdab260",
   "metadata": {
    "_cell_guid": "b1076dfc-b9ad-4769-8c92-a6c4dae69d19",
    "_uuid": "8f2839f25d086af736a60e9eeb907d3b93b6e0e5",
    "execution": {
     "iopub.execute_input": "2022-07-12T17:46:25.670849Z",
     "iopub.status.busy": "2022-07-12T17:46:25.669524Z",
     "iopub.status.idle": "2022-07-12T17:46:25.695036Z",
     "shell.execute_reply": "2022-07-12T17:46:25.694112Z"
    },
    "papermill": {
     "duration": 0.0352,
     "end_time": "2022-07-12T17:46:25.698173",
     "exception": false,
     "start_time": "2022-07-12T17:46:25.662973",
     "status": "completed"
    },
    "tags": []
   },
   "outputs": [
    {
     "name": "stdout",
     "output_type": "stream",
     "text": [
      "/kaggle/input/melb-data/melb_data.csv\n"
     ]
    }
   ],
   "source": [
    "# This Python 3 environment comes with many helpful analytics libraries installed\n",
    "# It is defined by the kaggle/python Docker image: https://github.com/kaggle/docker-python\n",
    "# For example, here's several helpful packages to load\n",
    "\n",
    "import numpy as np # linear algebra\n",
    "import pandas as pd # data processing, CSV file I/O (e.g. pd.read_csv)\n",
    "\n",
    "# Input data files are available in the read-only \"../input/\" directory\n",
    "# For example, running this (by clicking run or pressing Shift+Enter) will list all files under the input directory\n",
    "\n",
    "import os\n",
    "for dirname, _, filenames in os.walk('/kaggle/input'):\n",
    "    for filename in filenames:\n",
    "        print(os.path.join(dirname, filename))\n",
    "\n",
    "# You can write up to 20GB to the current directory (/kaggle/working/) that gets preserved as output when you create a version using \"Save & Run All\" \n",
    "# You can also write temporary files to /kaggle/temp/, but they won't be saved outside of the current session"
   ]
  },
  {
   "cell_type": "markdown",
   "id": "0efb8553",
   "metadata": {
    "papermill": {
     "duration": 0.003508,
     "end_time": "2022-07-12T17:46:25.705958",
     "exception": false,
     "start_time": "2022-07-12T17:46:25.702450",
     "status": "completed"
    },
    "tags": []
   },
   "source": [
    "Experimenting With Different Models\n",
    "Now that you have a reliable way to measure model accuracy, you can experiment with alternative models and see which gives the best predictions. But what alternatives do you have for models?\n",
    "\n",
    "You can see in scikit-learn's documentation that the decision tree model has many options (more than you'll want or need for a long time). The most important options determine the tree's depth. Recall from the first lesson in this course that a tree's depth is a measure of how many splits it makes before coming to a prediction. \n",
    "In practice, it's not uncommon for a tree to have 10 splits between the top level (all houses) and a leaf. As the tree gets deeper, the dataset gets sliced up into leaves with fewer houses. If a tree only had 1 split, it divides the data into 2 groups. If each group is split again, we would get 4 groups of houses. Splitting each of those again would create 8 groups. If we keep doubling the number of groups by adding more splits at each level, we'll have  210  groups of houses by the time we get to the 10th level. That's 1024 leaves.\n",
    "\n",
    "When we divide the houses amongst many leaves, we also have fewer houses in each leaf. Leaves with very few houses will make predictions that are quite close to those homes' actual values, but they may make very unreliable predictions for new data (because each prediction is based on only a few houses).\n",
    "\n",
    "This is a phenomenon called overfitting, where a model matches the training data almost perfectly, but does poorly in validation and other new data. On the flip side, if we make our tree very shallow, it doesn't divide up the houses into very distinct groups.\n",
    "At an extreme, if a tree divides houses into only 2 or 4, each group still has a wide variety of houses. Resulting predictions may be far off for most houses, even in the training data (and it will be bad in validation too for the same reason). When a model fails to capture important distinctions and patterns in the data, so it performs poorly even in training data, that is called underfitting.\n",
    "\n",
    "Since we care about accuracy on new data, which we estimate from our validation data, we want to find the sweet spot between underfitting and overfitting. Visually, we want the low point of the (red) validation curve in the figure below.\n",
    "\n",
    "underfitting_overfitting"
   ]
  },
  {
   "cell_type": "markdown",
   "id": "5d613cce",
   "metadata": {
    "papermill": {
     "duration": 0.003511,
     "end_time": "2022-07-12T17:46:25.713201",
     "exception": false,
     "start_time": "2022-07-12T17:46:25.709690",
     "status": "completed"
    },
    "tags": []
   },
   "source": [
    "There are a few alternatives for controlling the tree depth, and many allow for some routes through the tree to have greater depth than other routes. But the max_leaf_nodes argument provides a very sensible way to control overfitting vs underfitting. The more leaves we allow the model to make, the more we move from the underfitting area in the above graph to the overfitting area.\n",
    "\n",
    "We can use a utility function to help compare MAE scores from different values for max_leaf_nodes:"
   ]
  },
  {
   "cell_type": "code",
   "execution_count": 2,
   "id": "56cf3dbc",
   "metadata": {
    "execution": {
     "iopub.execute_input": "2022-07-12T17:46:25.722996Z",
     "iopub.status.busy": "2022-07-12T17:46:25.722599Z",
     "iopub.status.idle": "2022-07-12T17:46:27.076469Z",
     "shell.execute_reply": "2022-07-12T17:46:27.075387Z"
    },
    "papermill": {
     "duration": 1.361889,
     "end_time": "2022-07-12T17:46:27.079270",
     "exception": false,
     "start_time": "2022-07-12T17:46:25.717381",
     "status": "completed"
    },
    "tags": []
   },
   "outputs": [],
   "source": [
    "from sklearn.metrics import mean_absolute_error\n",
    "from sklearn.tree import DecisionTreeRegressor\n",
    "\n",
    "def get_mae(max_leaf_nodes, train_X, val_X, train_y, val_y):\n",
    "    model = DecisionTreeRegressor(max_leaf_nodes=max_leaf_nodes, random_state=0)\n",
    "    model.fit(train_X, train_y)\n",
    "    pred_value = model.predict(val_X)\n",
    "    mae = mean_absolute_error(val_y, pred_value)\n",
    "    return mae\n",
    "\n"
   ]
  },
  {
   "cell_type": "code",
   "execution_count": 3,
   "id": "205f29e4",
   "metadata": {
    "execution": {
     "iopub.execute_input": "2022-07-12T17:46:27.089945Z",
     "iopub.status.busy": "2022-07-12T17:46:27.089436Z",
     "iopub.status.idle": "2022-07-12T17:46:27.259949Z",
     "shell.execute_reply": "2022-07-12T17:46:27.258764Z"
    },
    "papermill": {
     "duration": 0.178693,
     "end_time": "2022-07-12T17:46:27.262544",
     "exception": false,
     "start_time": "2022-07-12T17:46:27.083851",
     "status": "completed"
    },
    "tags": []
   },
   "outputs": [],
   "source": [
    "# Data Loading Code Runs At This Point\n",
    "import pandas as pd\n",
    "    \n",
    "# Load data\n",
    "melbourne_file_path = '../input/melb-data/melb_data.csv'\n",
    "melbourne_data = pd.read_csv(melbourne_file_path) \n",
    "# Filter rows with missing values\n",
    "filtered_melbourne_data = melbourne_data.dropna(axis=0)\n",
    "# Choose target and features\n",
    "y = filtered_melbourne_data.Price\n",
    "melbourne_features = ['Rooms', 'Bathroom', 'Landsize', 'BuildingArea', \n",
    "                        'YearBuilt', 'Lattitude', 'Longtitude']\n",
    "X = filtered_melbourne_data[melbourne_features]\n",
    "\n",
    "from sklearn.model_selection import train_test_split\n",
    "\n",
    "# split data into training and validation data, for both features and target\n",
    "train_X, val_X, train_y, val_y = train_test_split(X, y,random_state = 0)"
   ]
  },
  {
   "cell_type": "markdown",
   "id": "84ebc017",
   "metadata": {
    "papermill": {
     "duration": 0.003584,
     "end_time": "2022-07-12T17:46:27.270107",
     "exception": false,
     "start_time": "2022-07-12T17:46:27.266523",
     "status": "completed"
    },
    "tags": []
   },
   "source": [
    "We can use a for-loop to compare the accuracy of models built with different values for max_leaf_nodes."
   ]
  },
  {
   "cell_type": "code",
   "execution_count": 4,
   "id": "723c6452",
   "metadata": {
    "execution": {
     "iopub.execute_input": "2022-07-12T17:46:27.279477Z",
     "iopub.status.busy": "2022-07-12T17:46:27.278819Z",
     "iopub.status.idle": "2022-07-12T17:46:27.372535Z",
     "shell.execute_reply": "2022-07-12T17:46:27.371438Z"
    },
    "papermill": {
     "duration": 0.101639,
     "end_time": "2022-07-12T17:46:27.375477",
     "exception": false,
     "start_time": "2022-07-12T17:46:27.273838",
     "status": "completed"
    },
    "tags": []
   },
   "outputs": [
    {
     "name": "stdout",
     "output_type": "stream",
     "text": [
      "Max leaf nodes: 5  \t\t Mean Absolute Error:  347380\n",
      "Max leaf nodes: 50  \t\t Mean Absolute Error:  258171\n",
      "Max leaf nodes: 500  \t\t Mean Absolute Error:  243495\n",
      "Max leaf nodes: 5000  \t\t Mean Absolute Error:  254983\n"
     ]
    }
   ],
   "source": [
    "for max_leaf_nodes in [5, 50, 500, 5000]:\n",
    "    my_mae = get_mae(max_leaf_nodes, train_X, val_X, train_y, val_y)\n",
    "    print(\"Max leaf nodes: %d  \\t\\t Mean Absolute Error:  %d\" %(max_leaf_nodes, my_mae))"
   ]
  },
  {
   "cell_type": "markdown",
   "id": "46b0c811",
   "metadata": {
    "papermill": {
     "duration": 0.003873,
     "end_time": "2022-07-12T17:46:27.383364",
     "exception": false,
     "start_time": "2022-07-12T17:46:27.379491",
     "status": "completed"
    },
    "tags": []
   },
   "source": [
    "## RANDOM FOREST"
   ]
  },
  {
   "cell_type": "code",
   "execution_count": 5,
   "id": "ad540466",
   "metadata": {
    "execution": {
     "iopub.execute_input": "2022-07-12T17:46:27.394104Z",
     "iopub.status.busy": "2022-07-12T17:46:27.393668Z",
     "iopub.status.idle": "2022-07-12T17:46:27.503583Z",
     "shell.execute_reply": "2022-07-12T17:46:27.502383Z"
    },
    "papermill": {
     "duration": 0.118367,
     "end_time": "2022-07-12T17:46:27.506149",
     "exception": false,
     "start_time": "2022-07-12T17:46:27.387782",
     "status": "completed"
    },
    "tags": []
   },
   "outputs": [],
   "source": [
    "import pandas as pd\n",
    "    \n",
    "# Load data\n",
    "melbourne_file_path = '../input/melb-data/melb_data.csv'\n",
    "melbourne_data = pd.read_csv(melbourne_file_path) \n",
    "# Filter rows with missing values\n",
    "melbourne_data = melbourne_data.dropna(axis=0)\n",
    "# Choose target and features\n",
    "y = melbourne_data.Price\n",
    "melbourne_features = ['Rooms', 'Bathroom', 'Landsize', 'BuildingArea', \n",
    "                        'YearBuilt', 'Lattitude', 'Longtitude']\n",
    "X = melbourne_data[melbourne_features]\n",
    "\n",
    "from sklearn.model_selection import train_test_split\n",
    "\n",
    "# split data into training and validation data, for both features and target\n",
    "# The split is based on a random number generator. Supplying a numeric value to\n",
    "# the random_state argument guarantees we get the same split every time we\n",
    "# run this script.\n",
    "train_X, val_X, train_y, val_y = train_test_split(X, y,random_state = 0)"
   ]
  },
  {
   "cell_type": "code",
   "execution_count": 6,
   "id": "0d7f18d2",
   "metadata": {
    "execution": {
     "iopub.execute_input": "2022-07-12T17:46:27.516138Z",
     "iopub.status.busy": "2022-07-12T17:46:27.515731Z",
     "iopub.status.idle": "2022-07-12T17:46:29.471329Z",
     "shell.execute_reply": "2022-07-12T17:46:29.469671Z"
    },
    "papermill": {
     "duration": 1.963615,
     "end_time": "2022-07-12T17:46:29.473871",
     "exception": false,
     "start_time": "2022-07-12T17:46:27.510256",
     "status": "completed"
    },
    "tags": []
   },
   "outputs": [
    {
     "name": "stdout",
     "output_type": "stream",
     "text": [
      "191669.7536453626\n"
     ]
    }
   ],
   "source": [
    "from sklearn.metrics import mean_absolute_error\n",
    "from sklearn.ensemble import RandomForestRegressor\n",
    "\n",
    "model = RandomForestRegressor(random_state=1)\n",
    "model.fit(train_X, train_y)\n",
    "pred_value = model.predict(val_X)\n",
    "mae = mean_absolute_error(val_y, pred_value)\n",
    "print(mae)"
   ]
  },
  {
   "cell_type": "code",
   "execution_count": null,
   "id": "b9ad09a4",
   "metadata": {
    "papermill": {
     "duration": 0.003701,
     "end_time": "2022-07-12T17:46:29.481590",
     "exception": false,
     "start_time": "2022-07-12T17:46:29.477889",
     "status": "completed"
    },
    "tags": []
   },
   "outputs": [],
   "source": []
  }
 ],
 "metadata": {
  "kernelspec": {
   "display_name": "Python 3",
   "language": "python",
   "name": "python3"
  },
  "language_info": {
   "codemirror_mode": {
    "name": "ipython",
    "version": 3
   },
   "file_extension": ".py",
   "mimetype": "text/x-python",
   "name": "python",
   "nbconvert_exporter": "python",
   "pygments_lexer": "ipython3",
   "version": "3.7.12"
  },
  "papermill": {
   "default_parameters": {},
   "duration": 15.568264,
   "end_time": "2022-07-12T17:46:30.309360",
   "environment_variables": {},
   "exception": null,
   "input_path": "__notebook__.ipynb",
   "output_path": "__notebook__.ipynb",
   "parameters": {},
   "start_time": "2022-07-12T17:46:14.741096",
   "version": "2.3.4"
  }
 },
 "nbformat": 4,
 "nbformat_minor": 5
}
