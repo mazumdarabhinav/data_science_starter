{
 "cells": [
  {
   "cell_type": "code",
   "execution_count": 1,
   "id": "9468e12f",
   "metadata": {
    "_cell_guid": "b1076dfc-b9ad-4769-8c92-a6c4dae69d19",
    "_uuid": "8f2839f25d086af736a60e9eeb907d3b93b6e0e5",
    "execution": {
     "iopub.execute_input": "2022-07-13T18:02:24.167960Z",
     "iopub.status.busy": "2022-07-13T18:02:24.166783Z",
     "iopub.status.idle": "2022-07-13T18:02:24.188219Z",
     "shell.execute_reply": "2022-07-13T18:02:24.187340Z"
    },
    "papermill": {
     "duration": 0.035292,
     "end_time": "2022-07-13T18:02:24.192603",
     "exception": false,
     "start_time": "2022-07-13T18:02:24.157311",
     "status": "completed"
    },
    "tags": []
   },
   "outputs": [
    {
     "name": "stdout",
     "output_type": "stream",
     "text": [
      "/kaggle/input/melb-data/melb_data.csv\n"
     ]
    }
   ],
   "source": [
    "# This Python 3 environment comes with many helpful analytics libraries installed\n",
    "# It is defined by the kaggle/python Docker image: https://github.com/kaggle/docker-python\n",
    "# For example, here's several helpful packages to load\n",
    "\n",
    "import numpy as np # linear algebra\n",
    "import pandas as pd # data processing, CSV file I/O (e.g. pd.read_csv)\n",
    "\n",
    "# Input data files are available in the read-only \"../input/\" directory\n",
    "# For example, running this (by clicking run or pressing Shift+Enter) will list all files under the input directory\n",
    "\n",
    "import os\n",
    "for dirname, _, filenames in os.walk('/kaggle/input'):\n",
    "    for filename in filenames:\n",
    "        print(os.path.join(dirname, filename))\n",
    "\n",
    "# You can write up to 20GB to the current directory (/kaggle/working/) that gets preserved as output when you create a version using \"Save & Run All\" \n",
    "# You can also write temporary files to /kaggle/temp/, but they won't be saved outside of the current session"
   ]
  },
  {
   "cell_type": "code",
   "execution_count": 2,
   "id": "7fead7fe",
   "metadata": {
    "execution": {
     "iopub.execute_input": "2022-07-13T18:02:24.208109Z",
     "iopub.status.busy": "2022-07-13T18:02:24.207353Z",
     "iopub.status.idle": "2022-07-13T18:02:25.494134Z",
     "shell.execute_reply": "2022-07-13T18:02:25.492783Z"
    },
    "papermill": {
     "duration": 1.297719,
     "end_time": "2022-07-13T18:02:25.497443",
     "exception": false,
     "start_time": "2022-07-13T18:02:24.199724",
     "status": "completed"
    },
    "tags": []
   },
   "outputs": [],
   "source": [
    "from sklearn.model_selection import train_test_split"
   ]
  },
  {
   "cell_type": "markdown",
   "id": "fcb74387",
   "metadata": {
    "papermill": {
     "duration": 0.00548,
     "end_time": "2022-07-13T18:02:25.511814",
     "exception": false,
     "start_time": "2022-07-13T18:02:25.506334",
     "status": "completed"
    },
    "tags": []
   },
   "source": [
    "## Three approaches to handle missing values"
   ]
  },
  {
   "cell_type": "markdown",
   "id": "7712f138",
   "metadata": {
    "papermill": {
     "duration": 0.005376,
     "end_time": "2022-07-13T18:02:25.523410",
     "exception": false,
     "start_time": "2022-07-13T18:02:25.518034",
     "status": "completed"
    },
    "tags": []
   },
   "source": [
    "1) A Simple Option: Drop Columns with Missing Values\n",
    "\n",
    "2) A Better Option: Imputation\n",
    "\n",
    "3) An Extension To Imputation: In this approach, we impute the missing values, as before. And, additionally, for each column with missing entries in the original dataset, we add a new column that shows the location of the imputed entries."
   ]
  },
  {
   "cell_type": "markdown",
   "id": "8bdc6b3f",
   "metadata": {
    "papermill": {
     "duration": 0.00516,
     "end_time": "2022-07-13T18:02:25.534275",
     "exception": false,
     "start_time": "2022-07-13T18:02:25.529115",
     "status": "completed"
    },
    "tags": []
   },
   "source": []
  },
  {
   "cell_type": "markdown",
   "id": "9caba3ec",
   "metadata": {
    "papermill": {
     "duration": 0.005192,
     "end_time": "2022-07-13T18:02:25.545045",
     "exception": false,
     "start_time": "2022-07-13T18:02:25.539853",
     "status": "completed"
    },
    "tags": []
   },
   "source": [
    "## Load and create the train-test split - we would only use numerical example now"
   ]
  },
  {
   "cell_type": "code",
   "execution_count": 3,
   "id": "84c84c2f",
   "metadata": {
    "execution": {
     "iopub.execute_input": "2022-07-13T18:02:25.558898Z",
     "iopub.status.busy": "2022-07-13T18:02:25.558092Z",
     "iopub.status.idle": "2022-07-13T18:02:25.739171Z",
     "shell.execute_reply": "2022-07-13T18:02:25.737923Z"
    },
    "papermill": {
     "duration": 0.191376,
     "end_time": "2022-07-13T18:02:25.742107",
     "exception": false,
     "start_time": "2022-07-13T18:02:25.550731",
     "status": "completed"
    },
    "tags": []
   },
   "outputs": [
    {
     "data": {
      "text/html": [
       "<div>\n",
       "<style scoped>\n",
       "    .dataframe tbody tr th:only-of-type {\n",
       "        vertical-align: middle;\n",
       "    }\n",
       "\n",
       "    .dataframe tbody tr th {\n",
       "        vertical-align: top;\n",
       "    }\n",
       "\n",
       "    .dataframe thead th {\n",
       "        text-align: right;\n",
       "    }\n",
       "</style>\n",
       "<table border=\"1\" class=\"dataframe\">\n",
       "  <thead>\n",
       "    <tr style=\"text-align: right;\">\n",
       "      <th></th>\n",
       "      <th>Suburb</th>\n",
       "      <th>Address</th>\n",
       "      <th>Rooms</th>\n",
       "      <th>Type</th>\n",
       "      <th>Price</th>\n",
       "      <th>Method</th>\n",
       "      <th>SellerG</th>\n",
       "      <th>Date</th>\n",
       "      <th>Distance</th>\n",
       "      <th>Postcode</th>\n",
       "      <th>...</th>\n",
       "      <th>Bathroom</th>\n",
       "      <th>Car</th>\n",
       "      <th>Landsize</th>\n",
       "      <th>BuildingArea</th>\n",
       "      <th>YearBuilt</th>\n",
       "      <th>CouncilArea</th>\n",
       "      <th>Lattitude</th>\n",
       "      <th>Longtitude</th>\n",
       "      <th>Regionname</th>\n",
       "      <th>Propertycount</th>\n",
       "    </tr>\n",
       "  </thead>\n",
       "  <tbody>\n",
       "    <tr>\n",
       "      <th>0</th>\n",
       "      <td>Abbotsford</td>\n",
       "      <td>85 Turner St</td>\n",
       "      <td>2</td>\n",
       "      <td>h</td>\n",
       "      <td>1480000.0</td>\n",
       "      <td>S</td>\n",
       "      <td>Biggin</td>\n",
       "      <td>3/12/2016</td>\n",
       "      <td>2.5</td>\n",
       "      <td>3067.0</td>\n",
       "      <td>...</td>\n",
       "      <td>1.0</td>\n",
       "      <td>1.0</td>\n",
       "      <td>202.0</td>\n",
       "      <td>NaN</td>\n",
       "      <td>NaN</td>\n",
       "      <td>Yarra</td>\n",
       "      <td>-37.7996</td>\n",
       "      <td>144.9984</td>\n",
       "      <td>Northern Metropolitan</td>\n",
       "      <td>4019.0</td>\n",
       "    </tr>\n",
       "    <tr>\n",
       "      <th>1</th>\n",
       "      <td>Abbotsford</td>\n",
       "      <td>25 Bloomburg St</td>\n",
       "      <td>2</td>\n",
       "      <td>h</td>\n",
       "      <td>1035000.0</td>\n",
       "      <td>S</td>\n",
       "      <td>Biggin</td>\n",
       "      <td>4/02/2016</td>\n",
       "      <td>2.5</td>\n",
       "      <td>3067.0</td>\n",
       "      <td>...</td>\n",
       "      <td>1.0</td>\n",
       "      <td>0.0</td>\n",
       "      <td>156.0</td>\n",
       "      <td>79.0</td>\n",
       "      <td>1900.0</td>\n",
       "      <td>Yarra</td>\n",
       "      <td>-37.8079</td>\n",
       "      <td>144.9934</td>\n",
       "      <td>Northern Metropolitan</td>\n",
       "      <td>4019.0</td>\n",
       "    </tr>\n",
       "    <tr>\n",
       "      <th>2</th>\n",
       "      <td>Abbotsford</td>\n",
       "      <td>5 Charles St</td>\n",
       "      <td>3</td>\n",
       "      <td>h</td>\n",
       "      <td>1465000.0</td>\n",
       "      <td>SP</td>\n",
       "      <td>Biggin</td>\n",
       "      <td>4/03/2017</td>\n",
       "      <td>2.5</td>\n",
       "      <td>3067.0</td>\n",
       "      <td>...</td>\n",
       "      <td>2.0</td>\n",
       "      <td>0.0</td>\n",
       "      <td>134.0</td>\n",
       "      <td>150.0</td>\n",
       "      <td>1900.0</td>\n",
       "      <td>Yarra</td>\n",
       "      <td>-37.8093</td>\n",
       "      <td>144.9944</td>\n",
       "      <td>Northern Metropolitan</td>\n",
       "      <td>4019.0</td>\n",
       "    </tr>\n",
       "    <tr>\n",
       "      <th>3</th>\n",
       "      <td>Abbotsford</td>\n",
       "      <td>40 Federation La</td>\n",
       "      <td>3</td>\n",
       "      <td>h</td>\n",
       "      <td>850000.0</td>\n",
       "      <td>PI</td>\n",
       "      <td>Biggin</td>\n",
       "      <td>4/03/2017</td>\n",
       "      <td>2.5</td>\n",
       "      <td>3067.0</td>\n",
       "      <td>...</td>\n",
       "      <td>2.0</td>\n",
       "      <td>1.0</td>\n",
       "      <td>94.0</td>\n",
       "      <td>NaN</td>\n",
       "      <td>NaN</td>\n",
       "      <td>Yarra</td>\n",
       "      <td>-37.7969</td>\n",
       "      <td>144.9969</td>\n",
       "      <td>Northern Metropolitan</td>\n",
       "      <td>4019.0</td>\n",
       "    </tr>\n",
       "    <tr>\n",
       "      <th>4</th>\n",
       "      <td>Abbotsford</td>\n",
       "      <td>55a Park St</td>\n",
       "      <td>4</td>\n",
       "      <td>h</td>\n",
       "      <td>1600000.0</td>\n",
       "      <td>VB</td>\n",
       "      <td>Nelson</td>\n",
       "      <td>4/06/2016</td>\n",
       "      <td>2.5</td>\n",
       "      <td>3067.0</td>\n",
       "      <td>...</td>\n",
       "      <td>1.0</td>\n",
       "      <td>2.0</td>\n",
       "      <td>120.0</td>\n",
       "      <td>142.0</td>\n",
       "      <td>2014.0</td>\n",
       "      <td>Yarra</td>\n",
       "      <td>-37.8072</td>\n",
       "      <td>144.9941</td>\n",
       "      <td>Northern Metropolitan</td>\n",
       "      <td>4019.0</td>\n",
       "    </tr>\n",
       "  </tbody>\n",
       "</table>\n",
       "<p>5 rows × 21 columns</p>\n",
       "</div>"
      ],
      "text/plain": [
       "       Suburb           Address  Rooms Type      Price Method SellerG  \\\n",
       "0  Abbotsford      85 Turner St      2    h  1480000.0      S  Biggin   \n",
       "1  Abbotsford   25 Bloomburg St      2    h  1035000.0      S  Biggin   \n",
       "2  Abbotsford      5 Charles St      3    h  1465000.0     SP  Biggin   \n",
       "3  Abbotsford  40 Federation La      3    h   850000.0     PI  Biggin   \n",
       "4  Abbotsford       55a Park St      4    h  1600000.0     VB  Nelson   \n",
       "\n",
       "        Date  Distance  Postcode  ...  Bathroom  Car  Landsize  BuildingArea  \\\n",
       "0  3/12/2016       2.5    3067.0  ...       1.0  1.0     202.0           NaN   \n",
       "1  4/02/2016       2.5    3067.0  ...       1.0  0.0     156.0          79.0   \n",
       "2  4/03/2017       2.5    3067.0  ...       2.0  0.0     134.0         150.0   \n",
       "3  4/03/2017       2.5    3067.0  ...       2.0  1.0      94.0           NaN   \n",
       "4  4/06/2016       2.5    3067.0  ...       1.0  2.0     120.0         142.0   \n",
       "\n",
       "   YearBuilt  CouncilArea Lattitude  Longtitude             Regionname  \\\n",
       "0        NaN        Yarra  -37.7996    144.9984  Northern Metropolitan   \n",
       "1     1900.0        Yarra  -37.8079    144.9934  Northern Metropolitan   \n",
       "2     1900.0        Yarra  -37.8093    144.9944  Northern Metropolitan   \n",
       "3        NaN        Yarra  -37.7969    144.9969  Northern Metropolitan   \n",
       "4     2014.0        Yarra  -37.8072    144.9941  Northern Metropolitan   \n",
       "\n",
       "  Propertycount  \n",
       "0        4019.0  \n",
       "1        4019.0  \n",
       "2        4019.0  \n",
       "3        4019.0  \n",
       "4        4019.0  \n",
       "\n",
       "[5 rows x 21 columns]"
      ]
     },
     "execution_count": 3,
     "metadata": {},
     "output_type": "execute_result"
    }
   ],
   "source": [
    "df = pd.read_csv(\"../input/melb-data/melb_data.csv\")\n",
    "df.drop(columns=[\"Unnamed: 0\"], inplace=True)\n",
    "df.head()"
   ]
  },
  {
   "cell_type": "code",
   "execution_count": 4,
   "id": "01bccb85",
   "metadata": {
    "execution": {
     "iopub.execute_input": "2022-07-13T18:02:25.757119Z",
     "iopub.status.busy": "2022-07-13T18:02:25.756576Z",
     "iopub.status.idle": "2022-07-13T18:02:25.781914Z",
     "shell.execute_reply": "2022-07-13T18:02:25.780533Z"
    },
    "papermill": {
     "duration": 0.036519,
     "end_time": "2022-07-13T18:02:25.785138",
     "exception": false,
     "start_time": "2022-07-13T18:02:25.748619",
     "status": "completed"
    },
    "tags": []
   },
   "outputs": [],
   "source": [
    "# select target\n",
    "y = df.Price\n",
    "\n",
    "# select feature\n",
    "X = df.drop([\"Price\"], axis=1)\n",
    "X = X.select_dtypes(exclude=[\"object\"])\n",
    "\n",
    "# Divide data into training and validation subsets\n",
    "X_train, X_valid, y_train, y_valid = train_test_split(X, y, train_size=0.8, test_size=0.2,\n",
    "                                                      random_state=0)"
   ]
  },
  {
   "cell_type": "markdown",
   "id": "e1ad75dd",
   "metadata": {
    "papermill": {
     "duration": 0.005812,
     "end_time": "2022-07-13T18:02:25.797328",
     "exception": false,
     "start_time": "2022-07-13T18:02:25.791516",
     "status": "completed"
    },
    "tags": []
   },
   "source": [
    "## Define Function to Measure Quality of Each Approach\n",
    "\n",
    "We define a function score_dataset() to compare different approaches to dealing with missing values. This function reports the mean absolute error (MAE) from a random forest model."
   ]
  },
  {
   "cell_type": "code",
   "execution_count": 5,
   "id": "ac63541b",
   "metadata": {
    "execution": {
     "iopub.execute_input": "2022-07-13T18:02:25.811709Z",
     "iopub.status.busy": "2022-07-13T18:02:25.811198Z",
     "iopub.status.idle": "2022-07-13T18:02:26.056137Z",
     "shell.execute_reply": "2022-07-13T18:02:26.054635Z"
    },
    "papermill": {
     "duration": 0.256102,
     "end_time": "2022-07-13T18:02:26.059488",
     "exception": false,
     "start_time": "2022-07-13T18:02:25.803386",
     "status": "completed"
    },
    "tags": []
   },
   "outputs": [],
   "source": [
    "from sklearn.ensemble import RandomForestRegressor\n",
    "from sklearn.metrics import mean_absolute_error\n",
    "\n",
    "## Function for comparing different approaches for missing value handling\n",
    "def score_dataset(X_train, X_valid, y_train, y_valid):\n",
    "    model = RandomForestRegressor(n_estimators=10, random_state=0)\n",
    "    model.fit(X_train, y_train)\n",
    "    preds = model.predict(X_valid)\n",
    "    return mean_absolute_error(y_valid, preds)"
   ]
  },
  {
   "cell_type": "markdown",
   "id": "cd004336",
   "metadata": {
    "papermill": {
     "duration": 0.00627,
     "end_time": "2022-07-13T18:02:26.071993",
     "exception": false,
     "start_time": "2022-07-13T18:02:26.065723",
     "status": "completed"
    },
    "tags": []
   },
   "source": [
    "## Score from Approach 1 (Drop Columns with Missing Values)\n",
    "\n",
    "Since we are working with both training and validation sets, we are careful to drop the same columns in both DataFrames."
   ]
  },
  {
   "cell_type": "code",
   "execution_count": 6,
   "id": "2985ada0",
   "metadata": {
    "execution": {
     "iopub.execute_input": "2022-07-13T18:02:26.087431Z",
     "iopub.status.busy": "2022-07-13T18:02:26.086597Z",
     "iopub.status.idle": "2022-07-13T18:02:26.137573Z",
     "shell.execute_reply": "2022-07-13T18:02:26.136271Z"
    },
    "papermill": {
     "duration": 0.061913,
     "end_time": "2022-07-13T18:02:26.140212",
     "exception": false,
     "start_time": "2022-07-13T18:02:26.078299",
     "status": "completed"
    },
    "tags": []
   },
   "outputs": [
    {
     "name": "stdout",
     "output_type": "stream",
     "text": [
      "MAE from Approach 1 (Drop columns with missing values):\n",
      "389006.8120658193\n"
     ]
    }
   ],
   "source": [
    "cols_with_missing = [col for col in X_train.columns if X_train[col].isnull().any()]\n",
    "\n",
    "# Drop columns in training and validation data\n",
    "reduced_X_train = X_train.drop(cols_with_missing, axis=1)\n",
    "reduced_X_valid = X_valid.drop(cols_with_missing, axis=1)\n",
    "\n",
    "print(\"MAE from Approach 1 (Drop columns with missing values):\")\n",
    "print(score_dataset(reduced_X_train, reduced_X_valid, y_train, y_valid))"
   ]
  },
  {
   "cell_type": "markdown",
   "id": "25b96f23",
   "metadata": {
    "papermill": {
     "duration": 0.005889,
     "end_time": "2022-07-13T18:02:26.152492",
     "exception": false,
     "start_time": "2022-07-13T18:02:26.146603",
     "status": "completed"
    },
    "tags": []
   },
   "source": [
    "## Score from Approach 2 (Imputation)\n",
    "\n",
    "Next, we use SimpleImputer to replace missing values with the mean value along each column.\n",
    "\n",
    "Although it's simple, filling in the mean value generally performs quite well (but this varies by dataset). While statisticians have experimented with more complex ways to determine imputed values (such as regression imputation, for instance), the complex strategies typically give no additional benefit once you plug the results into sophisticated machine learning models."
   ]
  },
  {
   "cell_type": "code",
   "execution_count": 7,
   "id": "a2cc5990",
   "metadata": {
    "execution": {
     "iopub.execute_input": "2022-07-13T18:02:26.166985Z",
     "iopub.status.busy": "2022-07-13T18:02:26.166220Z",
     "iopub.status.idle": "2022-07-13T18:02:26.960356Z",
     "shell.execute_reply": "2022-07-13T18:02:26.958575Z"
    },
    "papermill": {
     "duration": 0.804829,
     "end_time": "2022-07-13T18:02:26.963378",
     "exception": false,
     "start_time": "2022-07-13T18:02:26.158549",
     "status": "completed"
    },
    "tags": []
   },
   "outputs": [
    {
     "name": "stdout",
     "output_type": "stream",
     "text": [
      "MAE from Approach 2 (Imputation):\n",
      "198075.20472666025\n"
     ]
    }
   ],
   "source": [
    "from sklearn.impute import SimpleImputer\n",
    "\n",
    "## Imputation\n",
    "my_imputer = SimpleImputer()\n",
    "imputed_X_train = pd.DataFrame(my_imputer.fit_transform(X_train))\n",
    "imputed_X_valid = pd.DataFrame(my_imputer.transform(X_valid))\n",
    "\n",
    "# Imputation removed column names; put them back\n",
    "imputed_X_train.columns = X_train.columns\n",
    "imputed_X_valid.columns = X_valid.columns\n",
    "\n",
    "print(\"MAE from Approach 2 (Imputation):\")\n",
    "print(score_dataset(imputed_X_train, imputed_X_valid, y_train, y_valid))"
   ]
  },
  {
   "cell_type": "markdown",
   "id": "0067baeb",
   "metadata": {
    "papermill": {
     "duration": 0.006124,
     "end_time": "2022-07-13T18:02:26.975966",
     "exception": false,
     "start_time": "2022-07-13T18:02:26.969842",
     "status": "completed"
    },
    "tags": []
   },
   "source": [
    "## Score from Approach 3 (An Extension to Imputation)\n",
    "\n",
    "Next, we impute the missing values, while also keeping track of which values were imputed."
   ]
  },
  {
   "cell_type": "code",
   "execution_count": 8,
   "id": "3d2d147b",
   "metadata": {
    "execution": {
     "iopub.execute_input": "2022-07-13T18:02:26.990746Z",
     "iopub.status.busy": "2022-07-13T18:02:26.990256Z",
     "iopub.status.idle": "2022-07-13T18:02:28.072916Z",
     "shell.execute_reply": "2022-07-13T18:02:28.071470Z"
    },
    "papermill": {
     "duration": 1.09327,
     "end_time": "2022-07-13T18:02:28.075494",
     "exception": false,
     "start_time": "2022-07-13T18:02:26.982224",
     "status": "completed"
    },
    "tags": []
   },
   "outputs": [
    {
     "name": "stdout",
     "output_type": "stream",
     "text": [
      "MAE from Approach 3 (An Extension to Imputation):\n",
      "198846.25410329842\n"
     ]
    }
   ],
   "source": [
    "# Make copy to avoid changing original data (when imputing)\n",
    "X_train_plus = X_train.copy()\n",
    "X_valid_plus = X_valid.copy()\n",
    "\n",
    "# Make new columns indicating what will be imputed\n",
    "for col in cols_with_missing:\n",
    "    X_train_plus[col + '_was_missing'] = X_train_plus[col].isnull()\n",
    "    X_valid_plus[col + '_was_missing'] = X_valid_plus[col].isnull()\n",
    "\n",
    "# Imputation\n",
    "my_imputer = SimpleImputer()\n",
    "imputed_X_train_plus = pd.DataFrame(my_imputer.fit_transform(X_train_plus))\n",
    "imputed_X_valid_plus = pd.DataFrame(my_imputer.transform(X_valid_plus))\n",
    "\n",
    "# Imputation removed column names; put them back\n",
    "imputed_X_train_plus.columns = X_train_plus.columns\n",
    "imputed_X_valid_plus.columns = X_valid_plus.columns\n",
    "\n",
    "print(\"MAE from Approach 3 (An Extension to Imputation):\")\n",
    "print(score_dataset(imputed_X_train_plus, imputed_X_valid_plus, y_train, y_valid))"
   ]
  },
  {
   "cell_type": "code",
   "execution_count": 9,
   "id": "cc57c5ba",
   "metadata": {
    "execution": {
     "iopub.execute_input": "2022-07-13T18:02:28.091148Z",
     "iopub.status.busy": "2022-07-13T18:02:28.090252Z",
     "iopub.status.idle": "2022-07-13T18:02:28.097570Z",
     "shell.execute_reply": "2022-07-13T18:02:28.096190Z"
    },
    "papermill": {
     "duration": 0.017995,
     "end_time": "2022-07-13T18:02:28.100125",
     "exception": false,
     "start_time": "2022-07-13T18:02:28.082130",
     "status": "completed"
    },
    "tags": []
   },
   "outputs": [
    {
     "name": "stdout",
     "output_type": "stream",
     "text": [
      "(14716, 12)\n"
     ]
    }
   ],
   "source": [
    "## Shape of training data\n",
    "print(X_train.shape)"
   ]
  },
  {
   "cell_type": "code",
   "execution_count": 10,
   "id": "36899be2",
   "metadata": {
    "execution": {
     "iopub.execute_input": "2022-07-13T18:02:28.115255Z",
     "iopub.status.busy": "2022-07-13T18:02:28.114758Z",
     "iopub.status.idle": "2022-07-13T18:02:28.125485Z",
     "shell.execute_reply": "2022-07-13T18:02:28.124259Z"
    },
    "papermill": {
     "duration": 0.021412,
     "end_time": "2022-07-13T18:02:28.128110",
     "exception": false,
     "start_time": "2022-07-13T18:02:28.106698",
     "status": "completed"
    },
    "tags": []
   },
   "outputs": [
    {
     "data": {
      "text/plain": [
       "Rooms               0\n",
       "Distance            1\n",
       "Postcode            1\n",
       "Bedroom2         2779\n",
       "Bathroom         2780\n",
       "Car              2860\n",
       "Landsize         3829\n",
       "BuildingArea     8516\n",
       "YearBuilt        7528\n",
       "Lattitude        2675\n",
       "Longtitude       2675\n",
       "Propertycount       1\n",
       "dtype: int64"
      ]
     },
     "execution_count": 10,
     "metadata": {},
     "output_type": "execute_result"
    }
   ],
   "source": [
    "## Number of missing values in each column of X_train\n",
    "X_train.isna().sum()"
   ]
  },
  {
   "cell_type": "code",
   "execution_count": null,
   "id": "340d29da",
   "metadata": {
    "papermill": {
     "duration": 0.006356,
     "end_time": "2022-07-13T18:02:28.141124",
     "exception": false,
     "start_time": "2022-07-13T18:02:28.134768",
     "status": "completed"
    },
    "tags": []
   },
   "outputs": [],
   "source": []
  }
 ],
 "metadata": {
  "kernelspec": {
   "display_name": "Python 3",
   "language": "python",
   "name": "python3"
  },
  "language_info": {
   "codemirror_mode": {
    "name": "ipython",
    "version": 3
   },
   "file_extension": ".py",
   "mimetype": "text/x-python",
   "name": "python",
   "nbconvert_exporter": "python",
   "pygments_lexer": "ipython3",
   "version": "3.7.12"
  },
  "papermill": {
   "default_parameters": {},
   "duration": 15.922494,
   "end_time": "2022-07-13T18:02:29.173417",
   "environment_variables": {},
   "exception": null,
   "input_path": "__notebook__.ipynb",
   "output_path": "__notebook__.ipynb",
   "parameters": {},
   "start_time": "2022-07-13T18:02:13.250923",
   "version": "2.3.4"
  }
 },
 "nbformat": 4,
 "nbformat_minor": 5
}
